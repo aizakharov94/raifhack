{
 "cells": [
  {
   "cell_type": "markdown",
   "id": "600b28b8",
   "metadata": {},
   "source": [
    "### Imports"
   ]
  },
  {
   "cell_type": "code",
   "execution_count": 1,
   "id": "geographic-casting",
   "metadata": {},
   "outputs": [],
   "source": [
    "import numpy as np\n",
    "import pandas as pd\n",
    "from category_encoders import CountEncoder\n",
    "import lightgbm as lgb\n",
    "from scipy.stats import gaussian_kde\n",
    "np.random.seed(42)"
   ]
  },
  {
   "cell_type": "markdown",
   "id": "4c7eee29",
   "metadata": {},
   "source": [
    "### Constants"
   ]
  },
  {
   "cell_type": "code",
   "execution_count": 2,
   "id": "db64eceb",
   "metadata": {},
   "outputs": [],
   "source": [
    "key_cols = ['id', 'date', 'target', 'log_target', 'price_type']\n",
    "cat_cols = ['city', 'region', 'realty_type', 'street', 'floor', 'osm_city_nearest_name']"
   ]
  },
  {
   "cell_type": "markdown",
   "id": "5df34ac4",
   "metadata": {},
   "source": [
    "### Main"
   ]
  },
  {
   "cell_type": "code",
   "execution_count": 3,
   "id": "8ca21671",
   "metadata": {},
   "outputs": [],
   "source": [
    "test = pd.read_csv('../data/test.csv').rename({'per_square_meter_price': 'target'}, axis=1)\n",
    "test['target'] = 0\n",
    "test['log_target'] = 0\n",
    "train = pd.read_csv('../data/train.csv').rename({'per_square_meter_price': 'target'}, axis=1)\n",
    "train = train[(train.city.isin(set(test.city))) | (train.price_type == 1)].reset_index(drop=True)\n",
    "train['log_target'] = np.log(train['target'])\n",
    "\n",
    "train.city = train.city.str.replace('ё', 'е')\n",
    "test.city = test.city.str.replace('ё', 'е')\n",
    "\n",
    "train.osm_city_nearest_name = train.osm_city_nearest_name.str.replace('ё', 'е')\n",
    "test.osm_city_nearest_name = test.osm_city_nearest_name.str.replace('ё', 'е')"
   ]
  },
  {
   "cell_type": "markdown",
   "id": "c6c21f2c",
   "metadata": {},
   "source": [
    "### Categories"
   ]
  },
  {
   "cell_type": "code",
   "execution_count": 4,
   "id": "d2667c4e",
   "metadata": {},
   "outputs": [],
   "source": [
    "for col in cat_cols:\n",
    "    train['for_cnt_cat_' + col] = train[col].copy()\n",
    "    test['for_cnt_cat_' + col] = test[col].copy()\n",
    "ce = CountEncoder(cols=['for_cnt_cat_' + x for x in cat_cols])\n",
    "train = ce.fit_transform(train)\n",
    "test = ce.transform(test)"
   ]
  },
  {
   "cell_type": "markdown",
   "id": "2f66b02a",
   "metadata": {},
   "source": [
    "### Model"
   ]
  },
  {
   "cell_type": "markdown",
   "id": "7ceac144",
   "metadata": {},
   "source": [
    "###### Work with train dataset"
   ]
  },
  {
   "cell_type": "code",
   "execution_count": 5,
   "id": "07f1b953",
   "metadata": {},
   "outputs": [],
   "source": [
    "def get_sampled_train(train_1, train_0, sample_fraq=0.5):\n",
    "    choice_idx = np.random.choice(range(train_0.shape[0]), size=int(train_0.shape[0] / 2),\n",
    "                                  replace=False, p=probs / sum(probs))\n",
    "    train_0 = train_0.iloc[choice_idx].reset_index(drop=True)\n",
    "    return pd.concat([train_0, train_1]).reset_index(drop=True)\n",
    "\n",
    "train_0 = train[train.price_type == 0].reset_index(drop=True)\n",
    "train_1 = train[train.price_type == 1].reset_index(drop=True)\n",
    "train_0['log_target'] = train_0['log_target'] * train_1.log_target.mean() / train_0.log_target.mean()\n",
    "kde = gaussian_kde(train_1.log_target)\n",
    "probs = kde(train_0.log_target)"
   ]
  },
  {
   "cell_type": "markdown",
   "id": "dde2fa1c",
   "metadata": {},
   "source": [
    "###### Train"
   ]
  },
  {
   "cell_type": "code",
   "execution_count": 6,
   "id": "2ded66be",
   "metadata": {
    "scrolled": false
   },
   "outputs": [],
   "source": [
    "list_of_final_tables = []\n",
    "for i in range(25):\n",
    "    current_train = get_sampled_train(train_1, train_0)\n",
    "    train_cols = current_train.columns.difference(key_cols + cat_cols)\n",
    "    train_data = lgb.Dataset(current_train[train_cols], current_train['log_target'])\n",
    "\n",
    "    final_table = pd.DataFrame()\n",
    "    for i in range(10):\n",
    "        lgbm_params = {'metric': 'mape',\n",
    "                       'objective': 'mse',\n",
    "                       'learning_rate': 0.05,\n",
    "                       'n_jobs': 12,\n",
    "                       'seed': i,\n",
    "                       'feature_fraction': 0.8}\n",
    "        lgbm = lgb.train(lgbm_params, train_data, num_boost_round=3100, verbose_eval=-1)\n",
    "        final_table['pred_' + str(i)] = lgbm.predict(test[train_cols])\n",
    "    list_of_final_tables.append(final_table)"
   ]
  },
  {
   "cell_type": "markdown",
   "id": "1715c1f5",
   "metadata": {},
   "source": [
    "### Submission"
   ]
  },
  {
   "cell_type": "code",
   "execution_count": 7,
   "id": "9aba3cae",
   "metadata": {},
   "outputs": [],
   "source": [
    "final_df = pd.DataFrame()\n",
    "for i in range(len(list_of_final_tables)):\n",
    "    final_df['pred_model_' + str(i)] = list_of_final_tables[i].mean(1)\n",
    "\n",
    "submission = pd.read_csv('../data/test_submission.csv')\n",
    "preds = np.exp(final_df.mean(1))\n",
    "submission['per_square_meter_price'] = preds\n",
    "submission[['id', 'per_square_meter_price']].to_csv('./sampled_25_models_blend_10_city_to_osm.csv', index=False)"
   ]
  },
  {
   "cell_type": "markdown",
   "id": "00e6a8df",
   "metadata": {},
   "source": [
    "_____"
   ]
  },
  {
   "cell_type": "markdown",
   "id": "17dd5cbf",
   "metadata": {},
   "source": [
    "_____"
   ]
  },
  {
   "cell_type": "markdown",
   "id": "f03e9dac",
   "metadata": {},
   "source": [
    "_____"
   ]
  },
  {
   "cell_type": "markdown",
   "id": "fb5da9e1",
   "metadata": {},
   "source": [
    "_____"
   ]
  },
  {
   "cell_type": "markdown",
   "id": "1ef31806",
   "metadata": {},
   "source": [
    "_____"
   ]
  },
  {
   "cell_type": "markdown",
   "id": "01f112c7",
   "metadata": {},
   "source": [
    "_____"
   ]
  },
  {
   "cell_type": "markdown",
   "id": "fb1622aa",
   "metadata": {},
   "source": [
    "_____"
   ]
  },
  {
   "cell_type": "markdown",
   "id": "b42c62ba",
   "metadata": {},
   "source": [
    "_____"
   ]
  },
  {
   "cell_type": "markdown",
   "id": "7a65049d",
   "metadata": {},
   "source": [
    "_____"
   ]
  },
  {
   "cell_type": "markdown",
   "id": "65344585",
   "metadata": {},
   "source": [
    "_____"
   ]
  }
 ],
 "metadata": {
  "kernelspec": {
   "display_name": "Python (flex_supply)",
   "language": "python",
   "name": "flex_supply"
  },
  "language_info": {
   "codemirror_mode": {
    "name": "ipython",
    "version": 3
   },
   "file_extension": ".py",
   "mimetype": "text/x-python",
   "name": "python",
   "nbconvert_exporter": "python",
   "pygments_lexer": "ipython3",
   "version": "3.8.10"
  }
 },
 "nbformat": 4,
 "nbformat_minor": 5
}
